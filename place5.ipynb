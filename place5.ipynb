{
 "cells": [
  {
   "cell_type": "markdown",
   "id": "liked-efficiency",
   "metadata": {},
   "source": [
    "# 🔥 Prognozowanie emisji CO - starter4 ⭐ \n",
    "\n",
    "\n",
    "Dodajmy tym razem logarytm.\n",
    "\n",
    "\n",
    "## ✔️ Wczytujemy potrzebne biblioteki "
   ]
  },
  {
   "cell_type": "code",
   "execution_count": 33,
   "id": "japanese-tomorrow",
   "metadata": {},
   "outputs": [],
   "source": [
    "import pandas as pd\n",
    "import numpy as np\n",
    "\n",
    "import xgboost as xgb\n",
    "import eli5\n",
    "\n",
    "from sklearn.metrics import mean_absolute_error, mean_squared_error\n",
    "from sklearn.model_selection import cross_val_score, cross_val_predict, KFold, StratifiedKFold, train_test_split"
   ]
  },
  {
   "cell_type": "markdown",
   "id": "undefined-disclaimer",
   "metadata": {},
   "source": [
    "## 💾 Wczytujemy dane"
   ]
  },
  {
   "cell_type": "code",
   "execution_count": 34,
   "id": "pleased-livestock",
   "metadata": {},
   "outputs": [
    {
     "data": {
      "text/plain": [
       "(36733, 12)"
      ]
     },
     "execution_count": 34,
     "metadata": {},
     "output_type": "execute_result"
    }
   ],
   "source": [
    "df_train = pd.read_hdf(\"../input/train_power_plant.h5\")\n",
    "df_test = pd.read_hdf(\"../input/test_power_plant.h5\")\n",
    "\n",
    "df_all = pd.concat([df_train, df_test], axis=0)\n",
    "\n",
    "df_all.shape"
   ]
  },
  {
   "cell_type": "markdown",
   "id": "continued-hunger",
   "metadata": {},
   "source": [
    "## Rozkład\n",
    "Sprawdźmy jak wygląda rozkład zmiennej docelowej."
   ]
  },
  {
   "cell_type": "code",
   "execution_count": 35,
   "id": "soviet-reputation",
   "metadata": {},
   "outputs": [
    {
     "data": {
      "image/png": "[encoded data removed]",
      "text/plain": [
       "<Figure size 432x288 with 1 Axes>"
      ]
     },
     "metadata": {
      "needs_background": "light"
     },
     "output_type": "display_data"
    }
   ],
   "source": [
    "df_all[\"CO\"].hist(bins=100);"
   ]
  },
  {
   "cell_type": "markdown",
   "id": "pointed-coalition",
   "metadata": {},
   "source": [
    "Widać, że rozkład jest skośny, zobaczmy na ile pomoże transformacja logarytmiczna (najpierw zobaczmy to wizualnie)."
   ]
  },
  {
   "cell_type": "code",
   "execution_count": 36,
   "id": "legendary-necessity",
   "metadata": {},
   "outputs": [
    {
     "data": {
      "image/png": "[encoded data removed]",
      "text/plain": [
       "<Figure size 432x288 with 1 Axes>"
      ]
     },
     "metadata": {
      "needs_background": "light"
     },
     "output_type": "display_data"
    }
   ],
   "source": [
    "np.log( df_all[\"CO\"] ).hist(bins=100);"
   ]
  },
  {
   "cell_type": "markdown",
   "id": "local-climb",
   "metadata": {},
   "source": [
    "Widać że teraz jest lepiej (rozkład wygląda symetrycznie)."
   ]
  },
  {
   "cell_type": "markdown",
   "id": "announced-creation",
   "metadata": {},
   "source": [
    "## ⚙️Tworzymy cechy"
   ]
  },
  {
   "cell_type": "code",
   "execution_count": 45,
   "id": "passive-arrest",
   "metadata": {},
   "outputs": [],
   "source": [
    "def feature_engineering(df, par1, par2):\n",
    "    df['{0}&{1}'.format(par1, par2)] = df[par1].map(float) + df[par2].map(float)\n",
    "    \n",
    "    return df\n",
    "    \n",
    "df_all = feature_engineering(df_all,'TIT', 'TAT')\n",
    "df_all = feature_engineering(df_all, 'AT', 'AH')\n",
    "df_all = feature_engineering(df_all, 'AFDP', 'NOX')\n",
    "df_all = feature_engineering(df_all, 'GTEP', 'TAT')"
   ]
  },
  {
   "cell_type": "markdown",
   "id": "crucial-genealogy",
   "metadata": {},
   "source": [
    "## 💪 Przygotowujemy `X` i `y` \n"
   ]
  },
  {
   "cell_type": "code",
   "execution_count": 46,
   "id": "conscious-reynolds",
   "metadata": {},
   "outputs": [],
   "source": [
    "feats = ['AT', 'AP', 'AH', 'AFDP', 'GTEP', 'TIT', 'TAT', 'TEY', 'CDP','NOX', 'TIT&TAT', 'AT&AH', 'AFDP&NOX', 'GTEP&TAT']\n",
    "\n",
    "df_train = df_all[ df_all[\"CO\"].notnull() ]\n",
    "df_test = df_all[ df_all[\"CO\"].isnull() ].copy()\n",
    "\n",
    "\n",
    "X_train = df_train[feats].values\n",
    "y_train = df_train[\"CO\"].values\n",
    "y_train_log = np.log(y_train)\n",
    "\n",
    "X_test = df_test[feats].values"
   ]
  },
  {
   "cell_type": "markdown",
   "id": "welcome-pillow",
   "metadata": {},
   "source": [
    "## 🤖 Trenujemy i prognozujemy \n",
    "\n",
    "Tutaj używamy już bardziej zaawansowanego modelu ` xgb.XGBRegressor`. Zobacz, jaki wynik nam daje. "
   ]
  },
  {
   "cell_type": "code",
   "execution_count": 47,
   "id": "statewide-norman",
   "metadata": {},
   "outputs": [],
   "source": [
    "xgb_params = {\n",
    "    'colsample_bytree' : 0.8007029117993822,\n",
    "    'learning_rate' : 0.050320135179658776,\n",
    "    'max_depth' : 18, \n",
    "    'min_child_weight' : 4, \n",
    "    'random_state' : 6800, \n",
    "    'reg_alpha' : 1.0562173674403486, \n",
    "    'reg_lambda' : 0.8587059408628918, \n",
    "    'subsample' : 0.8050906085153493,\n",
    "    'n_estimators' : 300\n",
    "}\n",
    "\n",
    "model = xgb.XGBRegressor(**xgb_params)\n",
    "model.fit(X_train, y_train_log)\n",
    "y_pred_log = model.predict(X_test)\n",
    "y_pred = np.exp(y_pred_log)\n",
    "\n",
    "df_test[\"CO\"] = y_pred"
   ]
  },
  {
   "cell_type": "markdown",
   "id": "signal-jason",
   "metadata": {},
   "source": [
    "## 👀 Sprawdzamy ważność cech"
   ]
  },
  {
   "cell_type": "code",
   "execution_count": 48,
   "id": "southern-shelf",
   "metadata": {},
   "outputs": [
    {
     "data": {
      "text/html": [
       "\n",
       "    <style>\n",
       "    table.eli5-weights tr:hover {\n",
       "        filter: brightness(85%);\n",
       "    }\n",
       "</style>\n",
       "\n",
       "\n",
       "\n",
       "    \n",
       "\n",
       "    \n",
       "\n",
       "    \n",
       "\n",
       "    \n",
       "\n",
       "    \n",
       "\n",
       "    \n",
       "\n",
       "\n",
       "    \n",
       "\n",
       "    \n",
       "\n",
       "    \n",
       "\n",
       "    \n",
       "\n",
       "    \n",
       "\n",
       "    \n",
       "\n",
       "\n",
       "    \n",
       "\n",
       "    \n",
       "\n",
       "    \n",
       "\n",
       "    \n",
       "\n",
       "    \n",
       "        <table class=\"eli5-weights eli5-feature-importances\" style=\"border-collapse: collapse; border: none; margin-top: 0em; table-layout: auto;\">\n",
       "    <thead>\n",
       "    <tr style=\"border: none;\">\n",
       "        <th style=\"padding: 0 1em 0 0.5em; text-align: right; border: none;\">Weight</th>\n",
       "        <th style=\"padding: 0 0.5em 0 0.5em; text-align: left; border: none;\">Feature</th>\n",
       "    </tr>\n",
       "    </thead>\n",
       "    <tbody>\n",
       "    \n",
       "        <tr style=\"background-color: hsl(120, 100.00%, 80.00%); border: none;\">\n",
       "            <td style=\"padding: 0 1em 0 0.5em; text-align: right; border: none;\">\n",
       "                0.4819\n",
       "                \n",
       "            </td>\n",
       "            <td style=\"padding: 0 0.5em 0 0.5em; text-align: left; border: none;\">\n",
       "                TIT\n",
       "            </td>\n",
       "        </tr>\n",
       "    \n",
       "        <tr style=\"background-color: hsl(120, 100.00%, 92.90%); border: none;\">\n",
       "            <td style=\"padding: 0 1em 0 0.5em; text-align: right; border: none;\">\n",
       "                0.1097\n",
       "                \n",
       "            </td>\n",
       "            <td style=\"padding: 0 0.5em 0 0.5em; text-align: left; border: none;\">\n",
       "                CDP\n",
       "            </td>\n",
       "        </tr>\n",
       "    \n",
       "        <tr style=\"background-color: hsl(120, 100.00%, 94.65%); border: none;\">\n",
       "            <td style=\"padding: 0 1em 0 0.5em; text-align: right; border: none;\">\n",
       "                0.0733\n",
       "                \n",
       "            </td>\n",
       "            <td style=\"padding: 0 0.5em 0 0.5em; text-align: left; border: none;\">\n",
       "                TIT&amp;TAT\n",
       "            </td>\n",
       "        </tr>\n",
       "    \n",
       "        <tr style=\"background-color: hsl(120, 100.00%, 95.01%); border: none;\">\n",
       "            <td style=\"padding: 0 1em 0 0.5em; text-align: right; border: none;\">\n",
       "                0.0664\n",
       "                \n",
       "            </td>\n",
       "            <td style=\"padding: 0 0.5em 0 0.5em; text-align: left; border: none;\">\n",
       "                GTEP&amp;TAT\n",
       "            </td>\n",
       "        </tr>\n",
       "    \n",
       "        <tr style=\"background-color: hsl(120, 100.00%, 95.89%); border: none;\">\n",
       "            <td style=\"padding: 0 1em 0 0.5em; text-align: right; border: none;\">\n",
       "                0.0503\n",
       "                \n",
       "            </td>\n",
       "            <td style=\"padding: 0 0.5em 0 0.5em; text-align: left; border: none;\">\n",
       "                TEY\n",
       "            </td>\n",
       "        </tr>\n",
       "    \n",
       "        <tr style=\"background-color: hsl(120, 100.00%, 96.77%); border: none;\">\n",
       "            <td style=\"padding: 0 1em 0 0.5em; text-align: right; border: none;\">\n",
       "                0.0357\n",
       "                \n",
       "            </td>\n",
       "            <td style=\"padding: 0 0.5em 0 0.5em; text-align: left; border: none;\">\n",
       "                NOX\n",
       "            </td>\n",
       "        </tr>\n",
       "    \n",
       "        <tr style=\"background-color: hsl(120, 100.00%, 96.90%); border: none;\">\n",
       "            <td style=\"padding: 0 1em 0 0.5em; text-align: right; border: none;\">\n",
       "                0.0335\n",
       "                \n",
       "            </td>\n",
       "            <td style=\"padding: 0 0.5em 0 0.5em; text-align: left; border: none;\">\n",
       "                AFDP&amp;NOX\n",
       "            </td>\n",
       "        </tr>\n",
       "    \n",
       "        <tr style=\"background-color: hsl(120, 100.00%, 97.05%); border: none;\">\n",
       "            <td style=\"padding: 0 1em 0 0.5em; text-align: right; border: none;\">\n",
       "                0.0314\n",
       "                \n",
       "            </td>\n",
       "            <td style=\"padding: 0 0.5em 0 0.5em; text-align: left; border: none;\">\n",
       "                AFDP\n",
       "            </td>\n",
       "        </tr>\n",
       "    \n",
       "        <tr style=\"background-color: hsl(120, 100.00%, 97.60%); border: none;\">\n",
       "            <td style=\"padding: 0 1em 0 0.5em; text-align: right; border: none;\">\n",
       "                0.0233\n",
       "                \n",
       "            </td>\n",
       "            <td style=\"padding: 0 0.5em 0 0.5em; text-align: left; border: none;\">\n",
       "                AT\n",
       "            </td>\n",
       "        </tr>\n",
       "    \n",
       "        <tr style=\"background-color: hsl(120, 100.00%, 97.64%); border: none;\">\n",
       "            <td style=\"padding: 0 1em 0 0.5em; text-align: right; border: none;\">\n",
       "                0.0228\n",
       "                \n",
       "            </td>\n",
       "            <td style=\"padding: 0 0.5em 0 0.5em; text-align: left; border: none;\">\n",
       "                GTEP\n",
       "            </td>\n",
       "        </tr>\n",
       "    \n",
       "        <tr style=\"background-color: hsl(120, 100.00%, 97.89%); border: none;\">\n",
       "            <td style=\"padding: 0 1em 0 0.5em; text-align: right; border: none;\">\n",
       "                0.0194\n",
       "                \n",
       "            </td>\n",
       "            <td style=\"padding: 0 0.5em 0 0.5em; text-align: left; border: none;\">\n",
       "                AT&amp;AH\n",
       "            </td>\n",
       "        </tr>\n",
       "    \n",
       "        <tr style=\"background-color: hsl(120, 100.00%, 97.96%); border: none;\">\n",
       "            <td style=\"padding: 0 1em 0 0.5em; text-align: right; border: none;\">\n",
       "                0.0185\n",
       "                \n",
       "            </td>\n",
       "            <td style=\"padding: 0 0.5em 0 0.5em; text-align: left; border: none;\">\n",
       "                TAT\n",
       "            </td>\n",
       "        </tr>\n",
       "    \n",
       "        <tr style=\"background-color: hsl(120, 100.00%, 98.05%); border: none;\">\n",
       "            <td style=\"padding: 0 1em 0 0.5em; text-align: right; border: none;\">\n",
       "                0.0173\n",
       "                \n",
       "            </td>\n",
       "            <td style=\"padding: 0 0.5em 0 0.5em; text-align: left; border: none;\">\n",
       "                AP\n",
       "            </td>\n",
       "        </tr>\n",
       "    \n",
       "        <tr style=\"background-color: hsl(120, 100.00%, 98.11%); border: none;\">\n",
       "            <td style=\"padding: 0 1em 0 0.5em; text-align: right; border: none;\">\n",
       "                0.0166\n",
       "                \n",
       "            </td>\n",
       "            <td style=\"padding: 0 0.5em 0 0.5em; text-align: left; border: none;\">\n",
       "                AH\n",
       "            </td>\n",
       "        </tr>\n",
       "    \n",
       "    \n",
       "    </tbody>\n",
       "</table>\n",
       "    \n",
       "\n",
       "    \n",
       "\n",
       "\n",
       "    \n",
       "\n",
       "    \n",
       "\n",
       "    \n",
       "\n",
       "    \n",
       "\n",
       "    \n",
       "\n",
       "    \n",
       "\n",
       "\n",
       "\n"
      ],
      "text/plain": [
       "<IPython.core.display.HTML object>"
      ]
     },
     "execution_count": 48,
     "metadata": {},
     "output_type": "execute_result"
    }
   ],
   "source": [
    "eli5.show_weights(model, feature_names=feats)"
   ]
  },
  {
   "cell_type": "markdown",
   "id": "played-worthy",
   "metadata": {},
   "source": [
    "## ✔️ Zapisujemy wynik i dodajemy na Kaggle"
   ]
  },
  {
   "cell_type": "code",
   "execution_count": null,
   "id": "round-crossing",
   "metadata": {},
   "outputs": [],
   "source": [
    "!mkdir -p ../output"
   ]
  },
  {
   "cell_type": "code",
   "execution_count": 49,
   "id": "detected-proportion",
   "metadata": {},
   "outputs": [],
   "source": [
    "df_test[ [\"id\", \"CO\"] ].to_csv(\"../output/xgb_log2.csv\", index=False)"
   ]
  },
  {
   "cell_type": "markdown",
   "id": "stuck-nylon",
   "metadata": {},
   "source": [
    "### 🌎 [Dołącz](https://www.kaggle.com/t/fe9bea7432de4d21941ea721ddad230e) do konkursu jeszcze dziś! \n",
    "\n",
    "\n",
    "### 🤝🗣️ Współpraca 💪 i komunikacja 💬\n",
    "\n",
    "👉 [#pml_konkurs](https://practicalmlcourse.slack.com/archives/C036J6JSP40) - to jest miejsce, gdzie można szukać pomocy i dzielić się doświadczeniem, także pomagać innym 🥰. \n",
    "\n",
    "\n",
    "\n",
    "\n",
    "\n"
   ]
  }
 ],
 "metadata": {
  "kernelspec": {
   "display_name": "Python 3",
   "language": "python",
   "name": "python3"
  },
  "language_info": {
   "codemirror_mode": {
    "name": "ipython",
    "version": 3
   },
   "file_extension": ".py",
   "mimetype": "text/x-python",
   "name": "python",
   "nbconvert_exporter": "python",
   "pygments_lexer": "ipython3",
   "version": "3.8.6"
  }
 },
 "nbformat": 4,
 "nbformat_minor": 5
}
